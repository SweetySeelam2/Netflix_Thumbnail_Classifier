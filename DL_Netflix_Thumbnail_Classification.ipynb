{
 "cells": [
  {
   "cell_type": "markdown",
   "id": "ec39cb31",
   "metadata": {},
   "source": [
    "-----\n",
    "## 📄 License\n",
    "MIT License\n",
    "\n",
    "Copyright (c) 2025 Sweety Seelam\n",
    "\n",
    "Permission is hereby granted, free of charge, to any person obtaining a copy of this software and associated documentation files (the \"Software\"), to deal in the Software without restriction, including without limitation the rights to use, copy, modify, merge, publish, distribute, sublicense, and/or sell copies of the Software, and to permit persons to whom the Software is furnished to do so, subject to the following conditions:\n",
    "\n",
    "-----"
   ]
  },
  {
   "cell_type": "markdown",
   "id": "4adb28bb",
   "metadata": {},
   "source": [
    "# 🎬 Netflix Thumbnail Genre Classification using DenseNet121\n",
    "\n",
    "An advanced deep learning project that classifies Netflix-style movie posters into genres for A/B testing optimization. This project uses DenseNet121 for high accuracy, reduced bias, and a scalable business application.\n",
    "\n",
    "---"
   ]
  },
  {
   "cell_type": "markdown",
   "id": "8f525106",
   "metadata": {},
   "source": [
    "## 📑 Table of Contents\n",
    "1. Project Overview\n",
    "2. Business Problem\n",
    "3. Project Objective\n",
    "4. Dataset Information\n",
    "5. Library Installation & Imports\n",
    "6. Image Collection via TMDB API\n",
    "7. Data Load and Preprocess Data\n",
    "8. Train-Test Split\n",
    "9. EfficientNetB0 Model Building\n",
    "10. Model Compilation and Training\n",
    "11. Evaluation and Accuracy/Loss Plots\n",
    "12. Confusion Matrix\n",
    "13. Prediction Function\n",
    "14. Results & Interpretation\n",
    "15. Conclusion\n",
    "16. Recommendations\n",
    "17. Project Story Telling\n",
    "\n",
    "---"
   ]
  },
  {
   "cell_type": "markdown",
   "id": "ea860485",
   "metadata": {},
   "source": [
    "## 📌 Project Overview\n",
    "- Netflix constantly experiments with thumbnail images to influence viewer engagement. Selecting the right thumbnail based on content genre significantly improves click-through rate (CTR) and user retention.\n",
    "- Manually tagging genres for hundreds of thousands of titles is inefficient, error-prone, time-consuming, subjective, and not scalable.  \n",
    "- This project simulates a Netflix-style thumbnail optimization system, using real movie poster data from TMDB to build and test a genre classifier.\n",
    "- It leverages a deep learning model (DenseNet121) to **automatically classify movie thumbnails (posters) into genres**, helping teams speed up thumbnail testing, A/B optimization, and personalization.\n",
    "\n",
    "----"
   ]
  },
  {
   "cell_type": "markdown",
   "id": "06216c29",
   "metadata": {},
   "source": [
    "## 💼 Business Problem\n",
    "\n",
    "**Challenge:**  \n",
    "Manual thumbnail genre tagging is subjective, slow, and inconsistent — especially across global content libraries.\n",
    "\n",
    "**Impact:**  \n",
    "- Delays A/B testing cycles\n",
    "- Reduces personalization accuracy\n",
    "- Limits automation in the recommendation system\n",
    "\n",
    "**Solution:**  \n",
    "Train a robust, unbiased, large-scale model that accurately classifies thumbnails into genres using visual signals — without metadata.\n",
    "\n",
    "---"
   ]
  },
  {
   "cell_type": "markdown",
   "id": "7ec5c462",
   "metadata": {},
   "source": [
    "## 🎯 Project Objective\n",
    "\n",
    "To build a high-performing deep learning model - DenseNet121 that classifies Netflix-style movie posters into **5 genres**:\n",
    "\n",
    "- 🎬 Action\n",
    "- 😂 Comedy\n",
    "- 😢 Drama\n",
    "- ❤️ Romance\n",
    "- 😱 Thriller\n",
    "\n",
    "With the aim of:\n",
    "- Improving tagging consistency.\n",
    "- Automating the content pipeline for thumbnails.\n",
    "- Enabling large-scale A/B testing at Netflix-level performance.\n",
    "\n",
    "---"
   ]
  },
  {
   "cell_type": "markdown",
   "id": "b0973d37",
   "metadata": {},
   "source": [
    "## 📂 Dataset Information\n",
    "\n",
    "- **Source:** Posters are downloaded from [TMDB (The Movie Database)](https://www.themoviedb.org/)\n",
    "- **Genres Used:** Action, Comedy, Drama, Romance, Thriller\n",
    "- **Collection Strategy:**\n",
    "  - Downloaded using TMDB API for each genre (500 posters attempted)\n",
    "  - Removed cross-genre duplicates using hash-based detection\n",
    "  - Final balanced dataset: **466 unique posters per genre** (2330 total)\n",
    "- **Format:** RGB JPEG images\n",
    "\n",
    "- **Directory Structure:**                                                               \n",
    "data/                          \n",
    "└── posters/                                                              \n",
    "----      └── Action/                                                                      \n",
    "----      └── Comedy/                                                              \n",
    "----      └── Drama/                                                                         \n",
    "----      └── Romance/                                                                                     \n",
    "----      └── Thriller/                                                                                     \n",
    "\n",
    "---"
   ]
  },
  {
   "cell_type": "markdown",
   "id": "4776ec9b-dac7-4c9f-b4a2-a675707147c9",
   "metadata": {},
   "source": [
    "## 🌐 Step 1: Image Collection via TMDB API"
   ]
  },
  {
   "cell_type": "markdown",
   "id": "d433ec7e-d518-4dad-9c83-e3325a27a647",
   "metadata": {},
   "source": [
    "----"
   ]
  },
  {
   "cell_type": "markdown",
   "id": "545cfd94-6643-48e0-a254-590b7bdbbd91",
   "metadata": {},
   "source": [
    "### 🖼 Dataset Collection & Preparation <a name='dataset-prep'></a>\n",
    "We used the [TMDB API](https://www.themoviedb.org/documentation/api) to collect 500 posters per genre.\n",
    "\n",
    "After deduplication and balancing, we ensured **466 unique posters per genre**, totaling **2330 images**.\n",
    "\n",
    "Steps performed:\n",
    "1. Downloaded posters via TMDB API using genre IDs\n",
    "2. Removed duplicate posters across genres using MD5 hashing\n",
    "3. Trimmed folders to equal size (466 each) for unbiased training"
   ]
  },
  {
   "cell_type": "markdown",
   "id": "1feffb62-03aa-489f-90c6-6dded6df7fb4",
   "metadata": {},
   "source": [
    "------"
   ]
  },
  {
   "cell_type": "markdown",
   "id": "982926e5",
   "metadata": {},
   "source": [
    "### 📥 Posters Image Download"
   ]
  },
  {
   "cell_type": "code",
   "execution_count": 3,
   "id": "a53e5ca7-97c0-4101-9ca0-f982760a393b",
   "metadata": {
    "collapsed": true,
    "jupyter": {
     "outputs_hidden": true,
     "source_hidden": true
    }
   },
   "outputs": [
    {
     "name": "stdout",
     "output_type": "stream",
     "text": [
      "\n",
      "📥 Downloading posters for Action\n",
      "✅ Downloaded 500 posters for Action\n",
      "\n",
      "📥 Downloading posters for Comedy\n",
      "✅ Downloaded 500 posters for Comedy\n",
      "\n",
      "📥 Downloading posters for Drama\n",
      "✅ Downloaded 500 posters for Drama\n",
      "\n",
      "📥 Downloading posters for Romance\n",
      "✅ Downloaded 500 posters for Romance\n",
      "\n",
      "📥 Downloading posters for Thriller\n",
      "✅ Downloaded 500 posters for Thriller\n"
     ]
    }
   ],
   "source": [
    "import os\n",
    "import requests\n",
    "from tqdm import tqdm\n",
    "\n",
    "API_KEY = \"TMDB API KEY\"  # ⚠️ Store this securely in production\n",
    "\n",
    "GENRES = {\n",
    "    'Action': 28,\n",
    "    'Comedy': 35,\n",
    "    'Drama': 18,\n",
    "    'Romance': 10749,\n",
    "    'Thriller': 53\n",
    "}\n",
    "\n",
    "TARGET_COUNT = 500\n",
    "POSTER_DIR = r\"C:\\Users\\sweet\\Desktop\\DataScience\\Github projects\\Deployment files\\DL-Recommendation-streamlit\\data\\posters\"\n",
    "os.makedirs(POSTER_DIR, exist_ok=True)\n",
    "\n",
    "def download_poster_images(genre_name, genre_id):\n",
    "    genre_path = os.path.join(POSTER_DIR, genre_name)\n",
    "    os.makedirs(genre_path, exist_ok=True)\n",
    "    count = len(os.listdir(genre_path))\n",
    "    page = 1\n",
    "\n",
    "    while count < TARGET_COUNT:\n",
    "        url = f\"https://api.themoviedb.org/3/discover/movie?api_key={API_KEY}&with_genres={genre_id}&page={page}\"\n",
    "        response = requests.get(url)\n",
    "        if response.status_code != 200:\n",
    "            print(f\"⚠️ Error fetching page {page} for {genre_name}\")\n",
    "            break\n",
    "        movies = response.json().get(\"results\", [])\n",
    "        if not movies:\n",
    "            break\n",
    "\n",
    "        for movie in movies:\n",
    "            poster_path = movie.get(\"poster_path\")\n",
    "            movie_id = movie.get(\"id\")\n",
    "            if not poster_path or not movie_id:\n",
    "                continue\n",
    "\n",
    "            img_url = f\"https://image.tmdb.org/t/p/w500{poster_path}\"\n",
    "            img_save_path = os.path.join(genre_path, f\"{movie_id}.jpg\")\n",
    "            if os.path.exists(img_save_path):\n",
    "                continue\n",
    "\n",
    "            try:\n",
    "                img_data = requests.get(img_url).content\n",
    "                with open(img_save_path, \"wb\") as f:\n",
    "                    f.write(img_data)\n",
    "                count += 1\n",
    "                if count >= TARGET_COUNT:\n",
    "                    break\n",
    "            except:\n",
    "                continue\n",
    "        page += 1\n",
    "\n",
    "    print(f\"✅ Downloaded {count} posters for {genre_name}\")\n",
    "\n",
    "# Run for all genres\n",
    "for genre_name, genre_id in GENRES.items():\n",
    "    print(f\"\\n📥 Downloading posters for {genre_name}\")\n",
    "    download_poster_images(genre_name, genre_id)"
   ]
  },
  {
   "cell_type": "code",
   "execution_count": 26,
   "id": "df0cf822-9c53-4808-953f-c4102b1077cc",
   "metadata": {
    "collapsed": true,
    "jupyter": {
     "outputs_hidden": true,
     "source_hidden": true
    }
   },
   "outputs": [
    {
     "name": "stdout",
     "output_type": "stream",
     "text": [
      "🔍 Action has 500 images initially\n",
      "✅ Action: 500 unique posters downloaded\n",
      "\n",
      "🔍 Comedy has 480 images initially\n",
      "✅ Comedy: 500 unique posters downloaded\n",
      "\n",
      "🔍 Drama has 388 images initially\n",
      "✅ Drama: 500 unique posters downloaded\n",
      "\n",
      "🔍 Romance has 295 images initially\n",
      "✅ Romance: 500 unique posters downloaded\n",
      "\n",
      "🔍 Thriller has 252 images initially\n",
      "✅ Thriller: 500 unique posters downloaded\n",
      "\n"
     ]
    }
   ],
   "source": [
    "# ✅ TMDB Poster Downloader with Duplicate Prevention\n",
    "# Run this inside your Jupyter Notebook\n",
    "\n",
    "import os\n",
    "import requests\n",
    "from tqdm import tqdm\n",
    "import hashlib\n",
    "\n",
    "API_KEY = \"TMDB API KEY\"\n",
    "GENRES = {\n",
    "    'Action': 28,\n",
    "    'Comedy': 35,\n",
    "    'Drama': 18,\n",
    "    'Romance': 10749,\n",
    "    'Thriller': 53\n",
    "}\n",
    "\n",
    "TARGET_COUNT = 500\n",
    "POSTER_DIR = r\"C:\\Users\\sweet\\Desktop\\DataScience\\Github projects\\Deployment files\\DL-Recommendation-streamlit\\data\\posters\"\n",
    "os.makedirs(POSTER_DIR, exist_ok=True)\n",
    "\n",
    "# Track existing hashes across genres\n",
    "hashes = {}\n",
    "\n",
    "def get_md5(file_path):\n",
    "    with open(file_path, 'rb') as f:\n",
    "        return hashlib.md5(f.read()).hexdigest()\n",
    "\n",
    "def download_poster_images(genre_name, genre_id):\n",
    "    genre_path = os.path.join(POSTER_DIR, genre_name)\n",
    "    os.makedirs(genre_path, exist_ok=True)\n",
    "\n",
    "    # Count valid posters\n",
    "    valid_files = [f for f in os.listdir(genre_path) if f.endswith(('.jpg', '.jpeg', '.png'))]\n",
    "    count = len(valid_files)\n",
    "    print(f\"🔍 {genre_name} has {count} images initially\")\n",
    "\n",
    "    # Load existing hashes\n",
    "    for f in valid_files:\n",
    "        fpath = os.path.join(genre_path, f)\n",
    "        h = get_md5(fpath)\n",
    "        hashes[h] = fpath\n",
    "\n",
    "    page = 1\n",
    "    while count < TARGET_COUNT:\n",
    "        url = f\"https://api.themoviedb.org/3/discover/movie?api_key={API_KEY}&with_genres={genre_id}&page={page}\"\n",
    "        response = requests.get(url)\n",
    "        if response.status_code != 200:\n",
    "            print(f\"⚠️ Error on page {page} for {genre_name}\")\n",
    "            break\n",
    "\n",
    "        movies = response.json().get(\"results\", [])\n",
    "        if not movies:\n",
    "            break\n",
    "\n",
    "        for movie in movies:\n",
    "            poster_path = movie.get(\"poster_path\")\n",
    "            movie_id = movie.get(\"id\")\n",
    "            if not poster_path or not movie_id:\n",
    "                continue\n",
    "\n",
    "            img_url = f\"https://image.tmdb.org/t/p/w500{poster_path}\"\n",
    "            img_save_path = os.path.join(genre_path, f\"{movie_id}.jpg\")\n",
    "\n",
    "            try:\n",
    "                img_data = requests.get(img_url).content\n",
    "                temp_hash = hashlib.md5(img_data).hexdigest()\n",
    "\n",
    "                if temp_hash in hashes:\n",
    "                    continue  # duplicate detected\n",
    "                with open(img_save_path, \"wb\") as f:\n",
    "                    f.write(img_data)\n",
    "                hashes[temp_hash] = img_save_path\n",
    "                count += 1\n",
    "\n",
    "                if count >= TARGET_COUNT:\n",
    "                    break\n",
    "            except:\n",
    "                continue\n",
    "\n",
    "        page += 1\n",
    "\n",
    "    print(f\"✅ {genre_name}: {count} unique posters downloaded\\n\")\n",
    "\n",
    "# 🔁 Download 500 unique posters for each genre\n",
    "for genre_name, genre_id in GENRES.items():\n",
    "    download_poster_images(genre_name, genre_id)"
   ]
  },
  {
   "cell_type": "code",
   "execution_count": 28,
   "id": "fd32b9f2-3551-400a-92bc-4be6529f221f",
   "metadata": {
    "collapsed": true,
    "jupyter": {
     "outputs_hidden": true,
     "source_hidden": true
    }
   },
   "outputs": [
    {
     "name": "stdout",
     "output_type": "stream",
     "text": [
      "✅ Romance: Now has 500 posters\n",
      "✅ Thriller: Now has 500 posters\n"
     ]
    }
   ],
   "source": [
    "import os\n",
    "import requests\n",
    "from tqdm import tqdm\n",
    "\n",
    "API_KEY = \"TMDB API KEY\"  # Your TMDB API Key\n",
    "POSTER_DIR = r\"C:\\Users\\sweet\\Desktop\\DataScience\\Github projects\\Deployment files\\DL-Recommendation-streamlit\\data\\posters\"\n",
    "\n",
    "# Refill only Romance and Thriller\n",
    "refill_genres = {\n",
    "    'Romance': 10749,\n",
    "    'Thriller': 53\n",
    "}\n",
    "\n",
    "TARGET_COUNT = 500\n",
    "\n",
    "def download_more_posters(genre_name, genre_id):\n",
    "    genre_path = os.path.join(POSTER_DIR, genre_name)\n",
    "    os.makedirs(genre_path, exist_ok=True)\n",
    "\n",
    "    existing = len(os.listdir(genre_path))\n",
    "    count = existing\n",
    "    page = 1\n",
    "\n",
    "    while count < TARGET_COUNT:\n",
    "        url = f\"https://api.themoviedb.org/3/discover/movie?api_key={API_KEY}&with_genres={genre_id}&page={page}\"\n",
    "        response = requests.get(url)\n",
    "        if response.status_code != 200:\n",
    "            print(f\"⚠️ Error fetching page {page} for {genre_name}\")\n",
    "            break\n",
    "        movies = response.json().get(\"results\", [])\n",
    "        if not movies:\n",
    "            break\n",
    "\n",
    "        for movie in movies:\n",
    "            poster_path = movie.get(\"poster_path\")\n",
    "            movie_id = movie.get(\"id\")\n",
    "            if not poster_path or not movie_id:\n",
    "                continue\n",
    "\n",
    "            img_url = f\"https://image.tmdb.org/t/p/w500{poster_path}\"\n",
    "            img_save_path = os.path.join(genre_path, f\"{movie_id}.jpg\")\n",
    "\n",
    "            if os.path.exists(img_save_path):\n",
    "                continue\n",
    "\n",
    "            try:\n",
    "                img_data = requests.get(img_url).content\n",
    "                with open(img_save_path, \"wb\") as f:\n",
    "                    f.write(img_data)\n",
    "                count += 1\n",
    "                if count >= TARGET_COUNT:\n",
    "                    break\n",
    "            except:\n",
    "                continue\n",
    "        page += 1\n",
    "\n",
    "    print(f\"✅ {genre_name}: Now has {count} posters\")\n",
    "\n",
    "# Refill\n",
    "for genre_name, genre_id in refill_genres.items():\n",
    "    download_more_posters(genre_name, genre_id)"
   ]
  },
  {
   "cell_type": "code",
   "execution_count": 30,
   "id": "66e4f415-e4e6-405c-b6cd-f7dcf8aa9cff",
   "metadata": {
    "collapsed": true,
    "jupyter": {
     "outputs_hidden": true,
     "source_hidden": true
    },
    "scrolled": true
   },
   "outputs": [
    {
     "name": "stdout",
     "output_type": "stream",
     "text": [
      "Action: 466 images\n",
      "Comedy: 466 images\n",
      "Drama: 466 images\n",
      "Romance: 466 images\n",
      "Thriller: 466 images\n"
     ]
    }
   ],
   "source": [
    "# Final unique counts\n",
    "import os\n",
    "\n",
    "poster_dir = r\"C:\\Users\\sweet\\Desktop\\DataScience\\Github projects\\Deployment files\\DL-Recommendation-streamlit\\data\\posters\"\n",
    "\n",
    "for genre in os.listdir(poster_dir):\n",
    "    genre_path = os.path.join(poster_dir, genre)\n",
    "    if os.path.isdir(genre_path):\n",
    "        count = len([f for f in os.listdir(genre_path) if f.lower().endswith(('.jpg', '.jpeg', '.png'))])\n",
    "        print(f\"{genre}: {count} images\")"
   ]
  },
  {
   "cell_type": "markdown",
   "id": "b418e58a-8bc2-41ea-a4f4-6bdf59c68709",
   "metadata": {},
   "source": [
    "----"
   ]
  },
  {
   "cell_type": "markdown",
   "id": "8a991d01-f52a-465b-aaf7-32bb3b5383d1",
   "metadata": {},
   "source": [
    "## 🧹 Step 2: Data Preprocessing"
   ]
  },
  {
   "cell_type": "code",
   "execution_count": 6,
   "id": "04bdfcd4-031c-46ca-a28a-69bf36ad9610",
   "metadata": {},
   "outputs": [],
   "source": [
    "import os\n",
    "import cv2\n",
    "import numpy as np\n",
    "from sklearn.model_selection import train_test_split\n",
    "from tensorflow.keras.utils import to_categorical\n",
    "\n",
    "IMG_SIZE = 160\n",
    "DATA_DIR = r\"C:\\Users\\sweet\\Desktop\\DataScience\\Github projects\\Deployment files\\DL-Recommendation-streamlit\\data\\posters\"\n",
    "label_map = {'Action': 0, 'Comedy': 1, 'Drama': 2, 'Romance': 3, 'Thriller': 4}\n",
    "\n",
    "X, y = [], []\n",
    "for genre, label in label_map.items():\n",
    "    genre_path = os.path.join(DATA_DIR, genre)\n",
    "    for file in os.listdir(genre_path):\n",
    "        if file.endswith(('.jpg', '.jpeg', '.png')):\n",
    "            try:\n",
    "                img = cv2.imread(os.path.join(genre_path, file))\n",
    "                img = cv2.resize(img, (IMG_SIZE, IMG_SIZE))\n",
    "                X.append(img)\n",
    "                y.append(label)\n",
    "            except:\n",
    "                continue"
   ]
  },
  {
   "cell_type": "markdown",
   "id": "8f917cc4-8012-45f9-98c0-fffca4a2b954",
   "metadata": {},
   "source": [
    "### Normalize and Convert to Arrays"
   ]
  },
  {
   "cell_type": "code",
   "execution_count": 7,
   "id": "72c908b1-cb73-475b-9ccb-8bbf4e6fb428",
   "metadata": {},
   "outputs": [
    {
     "name": "stdout",
     "output_type": "stream",
     "text": [
      "Train shape: (1864, 160, 160, 3), Validation shape: (466, 160, 160, 3)\n"
     ]
    }
   ],
   "source": [
    "# Step 2b: Normalize & Prepare Arrays\n",
    "X = np.array(X) / 255.0\n",
    "y = to_categorical(y)\n",
    "\n",
    "X_train, X_val, y_train, y_val = train_test_split(X, y, test_size=0.2, stratify=y, random_state=42)\n",
    "\n",
    "print(f\"Train shape: {X_train.shape}, Validation shape: {X_val.shape}\")"
   ]
  },
  {
   "cell_type": "markdown",
   "id": "540465a9-4dd4-40ba-85da-f34ff2f32e24",
   "metadata": {},
   "source": [
    "---"
   ]
  },
  {
   "cell_type": "markdown",
   "id": "41c1db13",
   "metadata": {},
   "source": [
    "## 🧱 STEP 3: Model Architecture - DenseNet121 "
   ]
  },
  {
   "cell_type": "markdown",
   "id": "622d6247-af5f-4545-b0d0-3a209cf4cc7f",
   "metadata": {},
   "source": [
    "------------"
   ]
  },
  {
   "cell_type": "markdown",
   "id": "cc2d4ed2-d6a1-4f4d-b34b-8b3d36f84e19",
   "metadata": {},
   "source": [
    "🎯 **Goal**                               \n",
    "To tackle the problem of visually classifying Netflix-style movie posters, we use **DenseNet121**, a powerful convolutional neural network (CNN) architecture known for its high performance, efficiency, and ability to generalize well even with limited data."
   ]
  },
  {
   "cell_type": "markdown",
   "id": "35630555-64c4-4f7b-9aae-8db6f0355f5a",
   "metadata": {},
   "source": [
    "🔍 **Why DenseNet121?**\n",
    "\n",
    "DenseNet121 stands out among deep CNNs for several reasons that align perfectly with our project goals:\n",
    "\n",
    "- ✅ *Feature Reusability:* Unlike traditional CNNs, DenseNet connects each layer to every other layer in a feed-forward manner. This encourages feature reuse and reduces the need to relearn redundant features — making it ideal for poster classification where genres share visual elements.\n",
    "\n",
    "- ✅ *Parameter Efficiency:* Despite being deep, DenseNet121 is relatively lightweight in terms of parameters compared to other deep networks (like ResNet50 or VGG). This makes it **suitable for CPU-based systems** without compromising accuracy.\n",
    "\n",
    "- ✅ *Improved Gradient Flow:* Dense connections improve gradient propagation during training, helping the model learn better and converge faster.\n",
    "\n",
    "- ✅ *Better Generalization:* DenseNet has been shown to generalize better on smaller datasets compared to architectures like EfficientNetB0 or MobileNet when working with real-world imbalanced image data."
   ]
  },
  {
   "cell_type": "markdown",
   "id": "25f9afaf-39eb-4cef-944f-eadfe3aca137",
   "metadata": {},
   "source": [
    "### ⚙️ Model Setup Summary\n",
    "\n",
    "- *Base Architecture:* `DenseNet121` (pre-trained on ImageNet)\n",
    "- *Input Size:* 160 x 160 RGB images (resized posters)\n",
    "- *Output Layer:* 5-class softmax output (for the genres)\n",
    "- *Transfer Learning:* Frozen base layers + custom classification head\n",
    "- *Optimization:* EarlyStopping, Data Augmentation, Adam Optimizer\n",
    "\n",
    "> 🔁 This model balances *efficiency*, *depth*, and *robustness*, making it the ideal choice for large-scale poster genre classification that could scale to Netflix-level operations."
   ]
  },
  {
   "cell_type": "code",
   "execution_count": 8,
   "id": "d9a2dd97",
   "metadata": {},
   "outputs": [
    {
     "data": {
      "text/html": [
       "<pre style=\"white-space:pre;overflow-x:auto;line-height:normal;font-family:Menlo,'DejaVu Sans Mono',consolas,'Courier New',monospace\"><span style=\"font-weight: bold\">Model: \"sequential_1\"</span>\n",
       "</pre>\n"
      ],
      "text/plain": [
       "\u001b[1mModel: \"sequential_1\"\u001b[0m\n"
      ]
     },
     "metadata": {},
     "output_type": "display_data"
    },
    {
     "data": {
      "text/html": [
       "<pre style=\"white-space:pre;overflow-x:auto;line-height:normal;font-family:Menlo,'DejaVu Sans Mono',consolas,'Courier New',monospace\">┏━━━━━━━━━━━━━━━━━━━━━━━━━━━━━━━━━━━━━━┳━━━━━━━━━━━━━━━━━━━━━━━━━━━━━┳━━━━━━━━━━━━━━━━━┓\n",
       "┃<span style=\"font-weight: bold\"> Layer (type)                         </span>┃<span style=\"font-weight: bold\"> Output Shape                </span>┃<span style=\"font-weight: bold\">         Param # </span>┃\n",
       "┡━━━━━━━━━━━━━━━━━━━━━━━━━━━━━━━━━━━━━━╇━━━━━━━━━━━━━━━━━━━━━━━━━━━━━╇━━━━━━━━━━━━━━━━━┩\n",
       "│ densenet121 (<span style=\"color: #0087ff; text-decoration-color: #0087ff\">Functional</span>)             │ (<span style=\"color: #00d7ff; text-decoration-color: #00d7ff\">None</span>, <span style=\"color: #00af00; text-decoration-color: #00af00\">5</span>, <span style=\"color: #00af00; text-decoration-color: #00af00\">5</span>, <span style=\"color: #00af00; text-decoration-color: #00af00\">1024</span>)          │       <span style=\"color: #00af00; text-decoration-color: #00af00\">7,037,504</span> │\n",
       "├──────────────────────────────────────┼─────────────────────────────┼─────────────────┤\n",
       "│ global_average_pooling2d_1           │ (<span style=\"color: #00d7ff; text-decoration-color: #00d7ff\">None</span>, <span style=\"color: #00af00; text-decoration-color: #00af00\">1024</span>)                │               <span style=\"color: #00af00; text-decoration-color: #00af00\">0</span> │\n",
       "│ (<span style=\"color: #0087ff; text-decoration-color: #0087ff\">GlobalAveragePooling2D</span>)             │                             │                 │\n",
       "├──────────────────────────────────────┼─────────────────────────────┼─────────────────┤\n",
       "│ dropout_2 (<span style=\"color: #0087ff; text-decoration-color: #0087ff\">Dropout</span>)                  │ (<span style=\"color: #00d7ff; text-decoration-color: #00d7ff\">None</span>, <span style=\"color: #00af00; text-decoration-color: #00af00\">1024</span>)                │               <span style=\"color: #00af00; text-decoration-color: #00af00\">0</span> │\n",
       "├──────────────────────────────────────┼─────────────────────────────┼─────────────────┤\n",
       "│ dense_2 (<span style=\"color: #0087ff; text-decoration-color: #0087ff\">Dense</span>)                      │ (<span style=\"color: #00d7ff; text-decoration-color: #00d7ff\">None</span>, <span style=\"color: #00af00; text-decoration-color: #00af00\">128</span>)                 │         <span style=\"color: #00af00; text-decoration-color: #00af00\">131,200</span> │\n",
       "├──────────────────────────────────────┼─────────────────────────────┼─────────────────┤\n",
       "│ dropout_3 (<span style=\"color: #0087ff; text-decoration-color: #0087ff\">Dropout</span>)                  │ (<span style=\"color: #00d7ff; text-decoration-color: #00d7ff\">None</span>, <span style=\"color: #00af00; text-decoration-color: #00af00\">128</span>)                 │               <span style=\"color: #00af00; text-decoration-color: #00af00\">0</span> │\n",
       "├──────────────────────────────────────┼─────────────────────────────┼─────────────────┤\n",
       "│ dense_3 (<span style=\"color: #0087ff; text-decoration-color: #0087ff\">Dense</span>)                      │ (<span style=\"color: #00d7ff; text-decoration-color: #00d7ff\">None</span>, <span style=\"color: #00af00; text-decoration-color: #00af00\">5</span>)                   │             <span style=\"color: #00af00; text-decoration-color: #00af00\">645</span> │\n",
       "└──────────────────────────────────────┴─────────────────────────────┴─────────────────┘\n",
       "</pre>\n"
      ],
      "text/plain": [
       "┏━━━━━━━━━━━━━━━━━━━━━━━━━━━━━━━━━━━━━━┳━━━━━━━━━━━━━━━━━━━━━━━━━━━━━┳━━━━━━━━━━━━━━━━━┓\n",
       "┃\u001b[1m \u001b[0m\u001b[1mLayer (type)                        \u001b[0m\u001b[1m \u001b[0m┃\u001b[1m \u001b[0m\u001b[1mOutput Shape               \u001b[0m\u001b[1m \u001b[0m┃\u001b[1m \u001b[0m\u001b[1m        Param #\u001b[0m\u001b[1m \u001b[0m┃\n",
       "┡━━━━━━━━━━━━━━━━━━━━━━━━━━━━━━━━━━━━━━╇━━━━━━━━━━━━━━━━━━━━━━━━━━━━━╇━━━━━━━━━━━━━━━━━┩\n",
       "│ densenet121 (\u001b[38;5;33mFunctional\u001b[0m)             │ (\u001b[38;5;45mNone\u001b[0m, \u001b[38;5;34m5\u001b[0m, \u001b[38;5;34m5\u001b[0m, \u001b[38;5;34m1024\u001b[0m)          │       \u001b[38;5;34m7,037,504\u001b[0m │\n",
       "├──────────────────────────────────────┼─────────────────────────────┼─────────────────┤\n",
       "│ global_average_pooling2d_1           │ (\u001b[38;5;45mNone\u001b[0m, \u001b[38;5;34m1024\u001b[0m)                │               \u001b[38;5;34m0\u001b[0m │\n",
       "│ (\u001b[38;5;33mGlobalAveragePooling2D\u001b[0m)             │                             │                 │\n",
       "├──────────────────────────────────────┼─────────────────────────────┼─────────────────┤\n",
       "│ dropout_2 (\u001b[38;5;33mDropout\u001b[0m)                  │ (\u001b[38;5;45mNone\u001b[0m, \u001b[38;5;34m1024\u001b[0m)                │               \u001b[38;5;34m0\u001b[0m │\n",
       "├──────────────────────────────────────┼─────────────────────────────┼─────────────────┤\n",
       "│ dense_2 (\u001b[38;5;33mDense\u001b[0m)                      │ (\u001b[38;5;45mNone\u001b[0m, \u001b[38;5;34m128\u001b[0m)                 │         \u001b[38;5;34m131,200\u001b[0m │\n",
       "├──────────────────────────────────────┼─────────────────────────────┼─────────────────┤\n",
       "│ dropout_3 (\u001b[38;5;33mDropout\u001b[0m)                  │ (\u001b[38;5;45mNone\u001b[0m, \u001b[38;5;34m128\u001b[0m)                 │               \u001b[38;5;34m0\u001b[0m │\n",
       "├──────────────────────────────────────┼─────────────────────────────┼─────────────────┤\n",
       "│ dense_3 (\u001b[38;5;33mDense\u001b[0m)                      │ (\u001b[38;5;45mNone\u001b[0m, \u001b[38;5;34m5\u001b[0m)                   │             \u001b[38;5;34m645\u001b[0m │\n",
       "└──────────────────────────────────────┴─────────────────────────────┴─────────────────┘\n"
      ]
     },
     "metadata": {},
     "output_type": "display_data"
    },
    {
     "data": {
      "text/html": [
       "<pre style=\"white-space:pre;overflow-x:auto;line-height:normal;font-family:Menlo,'DejaVu Sans Mono',consolas,'Courier New',monospace\"><span style=\"font-weight: bold\"> Total params: </span><span style=\"color: #00af00; text-decoration-color: #00af00\">7,169,349</span> (27.35 MB)\n",
       "</pre>\n"
      ],
      "text/plain": [
       "\u001b[1m Total params: \u001b[0m\u001b[38;5;34m7,169,349\u001b[0m (27.35 MB)\n"
      ]
     },
     "metadata": {},
     "output_type": "display_data"
    },
    {
     "data": {
      "text/html": [
       "<pre style=\"white-space:pre;overflow-x:auto;line-height:normal;font-family:Menlo,'DejaVu Sans Mono',consolas,'Courier New',monospace\"><span style=\"font-weight: bold\"> Trainable params: </span><span style=\"color: #00af00; text-decoration-color: #00af00\">131,845</span> (515.02 KB)\n",
       "</pre>\n"
      ],
      "text/plain": [
       "\u001b[1m Trainable params: \u001b[0m\u001b[38;5;34m131,845\u001b[0m (515.02 KB)\n"
      ]
     },
     "metadata": {},
     "output_type": "display_data"
    },
    {
     "data": {
      "text/html": [
       "<pre style=\"white-space:pre;overflow-x:auto;line-height:normal;font-family:Menlo,'DejaVu Sans Mono',consolas,'Courier New',monospace\"><span style=\"font-weight: bold\"> Non-trainable params: </span><span style=\"color: #00af00; text-decoration-color: #00af00\">7,037,504</span> (26.85 MB)\n",
       "</pre>\n"
      ],
      "text/plain": [
       "\u001b[1m Non-trainable params: \u001b[0m\u001b[38;5;34m7,037,504\u001b[0m (26.85 MB)\n"
      ]
     },
     "metadata": {},
     "output_type": "display_data"
    }
   ],
   "source": [
    "from tensorflow.keras.applications import DenseNet121\n",
    "from tensorflow.keras.models import Sequential\n",
    "from tensorflow.keras.layers import Dense, GlobalAveragePooling2D, Dropout\n",
    "from tensorflow.keras.optimizers import Adam\n",
    "from tensorflow.keras.callbacks import EarlyStopping\n",
    "\n",
    "base_model = DenseNet121(include_top=False, input_shape=(IMG_SIZE, IMG_SIZE, 3), weights='imagenet')\n",
    "base_model.trainable = False\n",
    "\n",
    "model = Sequential([\n",
    "    base_model,\n",
    "    GlobalAveragePooling2D(),\n",
    "    Dropout(0.3),\n",
    "    Dense(128, activation='relu'),\n",
    "    Dropout(0.3),\n",
    "    Dense(5, activation='softmax')\n",
    "])\n",
    "\n",
    "model.compile(optimizer=Adam(learning_rate=0.0001), loss='categorical_crossentropy', metrics=['accuracy'])\n",
    "model.summary()"
   ]
  },
  {
   "cell_type": "markdown",
   "id": "72308929-7b4d-4a99-a2ca-b7eab6c04465",
   "metadata": {},
   "source": [
    "----"
   ]
  },
  {
   "cell_type": "markdown",
   "id": "77c31f2c-09a3-4eb6-8f7b-202e62a0c264",
   "metadata": {},
   "source": [
    "## 🏋️ Step 4: Model Training "
   ]
  },
  {
   "cell_type": "code",
   "execution_count": 9,
   "id": "3a251fdb",
   "metadata": {},
   "outputs": [
    {
     "name": "stdout",
     "output_type": "stream",
     "text": [
      "Epoch 1/15\n",
      "\u001b[1m59/59\u001b[0m \u001b[32m━━━━━━━━━━━━━━━━━━━━\u001b[0m\u001b[37m\u001b[0m \u001b[1m154s\u001b[0m 2s/step - accuracy: 0.1981 - loss: 2.6118 - val_accuracy: 0.2446 - val_loss: 1.7048\n",
      "Epoch 2/15\n",
      "\u001b[1m59/59\u001b[0m \u001b[32m━━━━━━━━━━━━━━━━━━━━\u001b[0m\u001b[37m\u001b[0m \u001b[1m116s\u001b[0m 2s/step - accuracy: 0.2319 - loss: 2.0809 - val_accuracy: 0.2811 - val_loss: 1.5941\n",
      "Epoch 3/15\n",
      "\u001b[1m59/59\u001b[0m \u001b[32m━━━━━━━━━━━━━━━━━━━━\u001b[0m\u001b[37m\u001b[0m \u001b[1m117s\u001b[0m 2s/step - accuracy: 0.2590 - loss: 1.8538 - val_accuracy: 0.3176 - val_loss: 1.5528\n",
      "Epoch 4/15\n",
      "\u001b[1m59/59\u001b[0m \u001b[32m━━━━━━━━━━━━━━━━━━━━\u001b[0m\u001b[37m\u001b[0m \u001b[1m171s\u001b[0m 3s/step - accuracy: 0.2626 - loss: 1.7456 - val_accuracy: 0.3326 - val_loss: 1.5326\n",
      "Epoch 5/15\n",
      "\u001b[1m59/59\u001b[0m \u001b[32m━━━━━━━━━━━━━━━━━━━━\u001b[0m\u001b[37m\u001b[0m \u001b[1m120s\u001b[0m 2s/step - accuracy: 0.2745 - loss: 1.6754 - val_accuracy: 0.3476 - val_loss: 1.5220\n",
      "Epoch 6/15\n",
      "\u001b[1m59/59\u001b[0m \u001b[32m━━━━━━━━━━━━━━━━━━━━\u001b[0m\u001b[37m\u001b[0m \u001b[1m120s\u001b[0m 2s/step - accuracy: 0.2796 - loss: 1.6277 - val_accuracy: 0.3391 - val_loss: 1.5153\n",
      "Epoch 7/15\n",
      "\u001b[1m59/59\u001b[0m \u001b[32m━━━━━━━━━━━━━━━━━━━━\u001b[0m\u001b[37m\u001b[0m \u001b[1m120s\u001b[0m 2s/step - accuracy: 0.2993 - loss: 1.5813 - val_accuracy: 0.3541 - val_loss: 1.5092\n",
      "Epoch 8/15\n",
      "\u001b[1m59/59\u001b[0m \u001b[32m━━━━━━━━━━━━━━━━━━━━\u001b[0m\u001b[37m\u001b[0m \u001b[1m117s\u001b[0m 2s/step - accuracy: 0.3105 - loss: 1.5518 - val_accuracy: 0.3734 - val_loss: 1.4989\n",
      "Epoch 9/15\n",
      "\u001b[1m59/59\u001b[0m \u001b[32m━━━━━━━━━━━━━━━━━━━━\u001b[0m\u001b[37m\u001b[0m \u001b[1m123s\u001b[0m 2s/step - accuracy: 0.3191 - loss: 1.5283 - val_accuracy: 0.3798 - val_loss: 1.4914\n",
      "Epoch 10/15\n",
      "\u001b[1m59/59\u001b[0m \u001b[32m━━━━━━━━━━━━━━━━━━━━\u001b[0m\u001b[37m\u001b[0m \u001b[1m154s\u001b[0m 2s/step - accuracy: 0.3439 - loss: 1.5312 - val_accuracy: 0.3755 - val_loss: 1.4886\n",
      "Epoch 11/15\n",
      "\u001b[1m59/59\u001b[0m \u001b[32m━━━━━━━━━━━━━━━━━━━━\u001b[0m\u001b[37m\u001b[0m \u001b[1m117s\u001b[0m 2s/step - accuracy: 0.3516 - loss: 1.4823 - val_accuracy: 0.3884 - val_loss: 1.4817\n",
      "Epoch 12/15\n",
      "\u001b[1m59/59\u001b[0m \u001b[32m━━━━━━━━━━━━━━━━━━━━\u001b[0m\u001b[37m\u001b[0m \u001b[1m142s\u001b[0m 2s/step - accuracy: 0.3569 - loss: 1.4898 - val_accuracy: 0.3906 - val_loss: 1.4741\n",
      "Epoch 13/15\n",
      "\u001b[1m59/59\u001b[0m \u001b[32m━━━━━━━━━━━━━━━━━━━━\u001b[0m\u001b[37m\u001b[0m \u001b[1m140s\u001b[0m 2s/step - accuracy: 0.3444 - loss: 1.4721 - val_accuracy: 0.4034 - val_loss: 1.4688\n",
      "Epoch 14/15\n",
      "\u001b[1m59/59\u001b[0m \u001b[32m━━━━━━━━━━━━━━━━━━━━\u001b[0m\u001b[37m\u001b[0m \u001b[1m118s\u001b[0m 2s/step - accuracy: 0.3789 - loss: 1.4460 - val_accuracy: 0.3970 - val_loss: 1.4595\n",
      "Epoch 15/15\n",
      "\u001b[1m59/59\u001b[0m \u001b[32m━━━━━━━━━━━━━━━━━━━━\u001b[0m\u001b[37m\u001b[0m \u001b[1m117s\u001b[0m 2s/step - accuracy: 0.3757 - loss: 1.4429 - val_accuracy: 0.3927 - val_loss: 1.4506\n"
     ]
    }
   ],
   "source": [
    "history = model.fit(\n",
    "    X_train, y_train,\n",
    "    validation_data=(X_val, y_val),\n",
    "    epochs=15,\n",
    "    batch_size=32,\n",
    "    callbacks=[EarlyStopping(patience=3, restore_best_weights=True)]\n",
    ")"
   ]
  },
  {
   "cell_type": "markdown",
   "id": "e7d7aef1-13ed-4085-9af4-1a553b30c574",
   "metadata": {},
   "source": [
    "-----"
   ]
  },
  {
   "cell_type": "markdown",
   "id": "93571651-fa4d-4fb8-9266-885ba4c6c1df",
   "metadata": {},
   "source": [
    "## 📊 STEP 5: Model Evaluation & Performance Insights"
   ]
  },
  {
   "cell_type": "markdown",
   "id": "2be8a99f-8393-47e5-bc8d-fd96f763a642",
   "metadata": {},
   "source": [
    "🎯 **Why Evaluate?**\n",
    "- After training our DenseNet121 model on a balanced dataset of 2,330 posters (466 per genre), we must **validate its performance** across both known (training) and unseen (validation) data. \n",
    "- Evaluation ensures that the model not only memorizes training examples but also generalizes well to new poster images — critical for real-world Netflix use cases."
   ]
  },
  {
   "cell_type": "markdown",
   "id": "f339b4b0-7fbb-4b47-a269-ccc95dd7e862",
   "metadata": {},
   "source": [
    "🔍 **Business Impact of Evaluation**\n",
    "\n",
    "Understanding genre-wise weaknesses helps guide:\n",
    "- **Thumbnail optimization experiments**\n",
    "- **A/B testing strategies**\n",
    "- **Automated tag generation accuracy**\n",
    "- **Personalization at scale**\n",
    "\n",
    "These metrics enable **Netflix-like platforms** to make data-driven product decisions and **deliver optimized thumbnails to millions of users**, increasing **CTR**, **retention**, and **watch time**.\n",
    "\n",
    "> ✅ A model with consistent performance across genres ensures **fair, unbiased**, and **reliable thumbnail selection**, improving overall viewer experience and business ROI."
   ]
  },
  {
   "cell_type": "markdown",
   "id": "d44b1f40-8d4c-44ef-b486-42d8c565d39c",
   "metadata": {},
   "source": [
    "📈 **Metrics We Use:**\n",
    "\n",
    "1. **Training vs. Validation Accuracy and Loss**\n",
    "- Visualizing these plots helps assess:\n",
    "  - Whether the model is **overfitting** or **underfitting**.\n",
    "  - Whether the learning process is stable.\n",
    "- A small gap between training and validation accuracy with decreasing loss is ideal.\n",
    "\n",
    "2. **Confusion Matrix**\n",
    "- A powerful tool to **visually diagnose** genre-wise prediction strength.\n",
    "- Helps identify which genres are being confused (e.g., Romance vs Drama).\n",
    "- Used to fine-tune misclassified genre boundaries and model decision logic.\n",
    "\n",
    "3. **Classification Report**\n",
    "- Includes:\n",
    "  - **Precision** (Positive Predictive Value)\n",
    "  - **Recall** (Sensitivity or True Positive Rate)\n",
    "  - **F1-Score** (Harmonic mean of Precision & Recall)\n",
    "- This detailed report evaluates per-genre performance beyond accuracy alone—key for business reliability and user personalization."
   ]
  },
  {
   "cell_type": "code",
   "execution_count": 36,
   "id": "ce13d87d-b9f8-41e4-81a4-0b288f0d8445",
   "metadata": {},
   "outputs": [
    {
     "data": {
      "image/png": "[encoded data removed]",
      "text/plain": [
       "<Figure size 640x480 with 1 Axes>"
      ]
     },
     "metadata": {},
     "output_type": "display_data"
    }
   ],
   "source": [
    "# Training vs Validation Accuracy Plot\n",
    "import matplotlib.pyplot as plt\n",
    "\n",
    "plt.plot(history.history['accuracy'], label='Train Acc')\n",
    "plt.plot(history.history['val_accuracy'], label='Val Acc')\n",
    "plt.title('Model Accuracy')\n",
    "plt.xlabel('Epochs')\n",
    "plt.ylabel('Accuracy')\n",
    "plt.legend()\n",
    "plt.show()"
   ]
  },
  {
   "cell_type": "markdown",
   "id": "7db2e48d-a852-4572-b47f-f4323b550bf8",
   "metadata": {},
   "source": [
    "**Training vs Validation Accuracy Plot – Results Interpretation**\n",
    "\n",
    "- Steady and aligned improvement in both training and validation accuracy.\n",
    "\n",
    "- No clear sign of overfitting; validation accuracy stays closely aligned with training across all 15 epochs.\n",
    "\n",
    "- Maximum validation accuracy stabilizes around 0.38, indicating the architecture is learning but hitting a ceiling.\n",
    "\n",
    "✅ *Business Insight:*                                            \n",
    "With proper data and a more expressive model, further accuracy gains are possible without risking overfitting."
   ]
  },
  {
   "cell_type": "code",
   "execution_count": 37,
   "id": "98acf250-409a-471f-8e9b-1f50c25a7831",
   "metadata": {},
   "outputs": [
    {
     "data": {
      "image/png": "[encoded data removed]",
      "text/plain": [
       "<Figure size 640x480 with 1 Axes>"
      ]
     },
     "metadata": {},
     "output_type": "display_data"
    }
   ],
   "source": [
    "# Training vs Validation Loss Plot\n",
    "plt.plot(history.history['loss'], label='Train Loss')\n",
    "plt.plot(history.history['val_loss'], label='Val Loss')\n",
    "plt.title('Model Loss')\n",
    "plt.xlabel('Epochs')\n",
    "plt.ylabel('Loss')\n",
    "plt.legend()\n",
    "plt.show()"
   ]
  },
  {
   "cell_type": "markdown",
   "id": "5163e8ff-dd2e-4fd5-adb5-381e045ff466",
   "metadata": {},
   "source": [
    "**Training vs Validation Loss Plot – Results Interpretation**\n",
    "\n",
    "- Both loss curves decrease steadily with training, which is a good sign of convergence.\n",
    "\n",
    "- Gap between training and validation loss is small, supporting good generalization, but shows diminishing returns after ~12 epochs.\n",
    "\n",
    "- Loss stabilizes but doesn’t reach low enough—this shows the model is underpowered for this complex task.\n",
    "\n",
    "✅ *Business Insight:*                                                \n",
    "Model training is stable, but performance gains now require stronger architectures, feature fusion, or attention mechanisms."
   ]
  },
  {
   "cell_type": "code",
   "execution_count": 38,
   "id": "cc3883af-67d5-430d-9f14-1f13e3f36168",
   "metadata": {},
   "outputs": [
    {
     "name": "stdout",
     "output_type": "stream",
     "text": [
      "\u001b[1m15/15\u001b[0m \u001b[32m━━━━━━━━━━━━━━━━━━━━\u001b[0m\u001b[37m\u001b[0m \u001b[1m37s\u001b[0m 2s/step\n"
     ]
    }
   ],
   "source": [
    "# Confusion Matrix & Classification Report\n",
    "from sklearn.metrics import classification_report, confusion_matrix\n",
    "import seaborn as sns\n",
    "\n",
    "y_pred = model.predict(X_val)\n",
    "y_pred_classes = np.argmax(y_pred, axis=1)\n",
    "y_true = np.argmax(y_val, axis=1)"
   ]
  },
  {
   "cell_type": "code",
   "execution_count": 39,
   "id": "cb472947-540d-4851-9030-ea0f5dfb25c0",
   "metadata": {},
   "outputs": [
    {
     "data": {
      "image/png": "[encoded data removed]",
      "text/plain": [
       "<Figure size 640x480 with 2 Axes>"
      ]
     },
     "metadata": {},
     "output_type": "display_data"
    }
   ],
   "source": [
    "# Confusion Matrix\n",
    "cm = confusion_matrix(y_true, y_pred_classes)\n",
    "sns.heatmap(cm, annot=True, fmt='d', cmap='Blues', xticklabels=label_map.keys(), yticklabels=label_map.keys())\n",
    "plt.title(\"Confusion Matrix\")\n",
    "plt.show()"
   ]
  },
  {
   "cell_type": "markdown",
   "id": "4846d8f0-a1a0-4ae0-994d-c965f209a04a",
   "metadata": {},
   "source": [
    "**Confusion Matrix - Results Interpretation**\n",
    "\n",
    "- Diagonal dominance is weak – especially for Drama and Thriller, where misclassifications are frequent.\n",
    "\n",
    "- Romance shows better performance (48 correctly classified), but is often confused with Drama and Comedy.\n",
    "\n",
    "- Significant overlap is seen between Action and Thriller, which often share visual aesthetics (e.g., dark tones, high contrast).\n",
    "\n",
    "✅ *Business Insight:*                                   \n",
    "High genre confusion reflects the visual similarity in thumbnails; this suggests integrating plot summary or metadata might greatly improve prediction fidelity."
   ]
  },
  {
   "cell_type": "code",
   "execution_count": 40,
   "id": "15beab3c-fc3b-4325-9725-61ced0a6185e",
   "metadata": {},
   "outputs": [
    {
     "name": "stdout",
     "output_type": "stream",
     "text": [
      "              precision    recall  f1-score   support\n",
      "\n",
      "      Action       0.41      0.41      0.41        93\n",
      "      Comedy       0.48      0.46      0.47        94\n",
      "       Drama       0.25      0.22      0.23        93\n",
      "     Romance       0.39      0.52      0.44        93\n",
      "    Thriller       0.31      0.27      0.29        93\n",
      "\n",
      "    accuracy                           0.37       466\n",
      "   macro avg       0.37      0.37      0.37       466\n",
      "weighted avg       0.37      0.37      0.37       466\n",
      "\n"
     ]
    }
   ],
   "source": [
    "# Classification Report\n",
    "print(classification_report(y_true, y_pred_classes, target_names=label_map.keys()))"
   ]
  },
  {
   "cell_type": "markdown",
   "id": "f8dabb01-9ce4-4e71-962d-d7f730d5a82b",
   "metadata": {},
   "source": [
    "**Classification Report - Results Interpretation**\n",
    "\n",
    "- The model struggles with genres that are more visually subtle or stylistically overlapping, such as Drama and Thriller (lowest F1-scores).\n",
    "\n",
    "- Comedy and Romance perform slightly better, possibly due to more distinguishable poster cues.\n",
    "\n",
    "- There’s noticeable class imbalance and confusion, indicating a need for improved feature extraction or multi-modal inputs.\n",
    "\n",
    "✅ *Business Insight:*                                                   \n",
    "At 37% accuracy, the model currently offers a basic level of automation but is not reliable enough for production-level use at Netflix-scale thumbnail generation."
   ]
  },
  {
   "cell_type": "markdown",
   "id": "6aa37b69-e46c-446f-bb38-c7d821814497",
   "metadata": {},
   "source": [
    "-----"
   ]
  },
  {
   "cell_type": "code",
   "execution_count": 10,
   "id": "76823191-6ee5-4eaf-9d0b-4fe6ba8331a9",
   "metadata": {},
   "outputs": [
    {
     "name": "stderr",
     "output_type": "stream",
     "text": [
      "WARNING:absl:You are saving your model as an HDF5 file via `model.save()` or `keras.saving.save_model(model)`. This file format is considered legacy. We recommend using instead the native Keras format, e.g. `model.save('my_model.keras')` or `keras.saving.save_model(model, 'my_model.keras')`. \n"
     ]
    }
   ],
   "source": [
    "# Save Model and Label Map\n",
    "import pickle\n",
    "\n",
    "# ✅ Save in HDF5 format\n",
    "model.save(\"model/genre_model.h5\")\n",
    "\n",
    "# ✅ Save label map\n",
    "with open(\"model/label_map.pkl\", \"wb\") as f:\n",
    "    pickle.dump(label_map, f)\n",
    "\n",
    "# This generates the file label_map.pkl inside the same model/ directory."
   ]
  },
  {
   "cell_type": "markdown",
   "id": "6f61bfe9-cd4c-4b0d-ad4a-f115a44a1716",
   "metadata": {},
   "source": [
    "----"
   ]
  },
  {
   "cell_type": "markdown",
   "id": "03eb0fb9",
   "metadata": {},
   "source": [
    "## 🧪 Step 6: Test Prediction on Poster <a name='predictions'></a>\n",
    "\n",
    "We now test our model on a real poster image by using a direct file path. This simulates how the model can be used in a real-world app (e.g., Netflix upload pipeline)."
   ]
  },
  {
   "cell_type": "code",
   "execution_count": 42,
   "id": "333c89ab",
   "metadata": {},
   "outputs": [],
   "source": [
    "from tensorflow.keras.preprocessing import image\n",
    "\n",
    "def predict_genre(img_path):\n",
    "    img = image.load_img(img_path, target_size=(IMG_SIZE, IMG_SIZE))\n",
    "    img_array = image.img_to_array(img) / 255.0\n",
    "    img_array = np.expand_dims(img_array, axis=0)\n",
    "    pred = model.predict(img_array)\n",
    "    idx = np.argmax(pred)\n",
    "    genre = list(label_map.keys())[list(label_map.values()).index(idx)]\n",
    "    return genre, pred[0][idx]"
   ]
  },
  {
   "cell_type": "code",
   "execution_count": 43,
   "id": "32117233-5c42-40e3-bdb5-4885ade095e8",
   "metadata": {},
   "outputs": [
    {
     "name": "stdout",
     "output_type": "stream",
     "text": [
      "\u001b[1m1/1\u001b[0m \u001b[32m━━━━━━━━━━━━━━━━━━━━\u001b[0m\u001b[37m\u001b[0m \u001b[1m0s\u001b[0m 321ms/step\n",
      "Predicted Genre: Action, Confidence: 0.37\n"
     ]
    }
   ],
   "source": [
    "# Try predicting on a test poster\n",
    "\n",
    "# Example\n",
    "test_img = r\"C:\\Users\\sweet\\Desktop\\DataScience\\Github projects\\Deployment files\\DL-Recommendation-streamlit\\data\\posters\\Action\\19995.jpg\"\n",
    "genre, confidence = predict_genre(test_img)\n",
    "print(f\"Predicted Genre: {genre}, Confidence: {confidence:.2f}\")"
   ]
  },
  {
   "cell_type": "markdown",
   "id": "6889e518-6a72-408b-9d67-44adf2231264",
   "metadata": {},
   "source": [
    "**Single Poster Prediction – Results Interpretation**    \n",
    "\n",
    "- The model classified this poster as an “Action” genre with a moderate confidence level of 37%.\n",
    "\n",
    "- While the label is likely correct (since it's from the Action folder), the confidence is relatively low, indicating:\n",
    "\n",
    "    - Possible visual ambiguity in the poster design.\n",
    "    \n",
    "    - The model may have similar activation responses across multiple genres (e.g., Action and Thriller).\n",
    "    \n",
    "    - Suggests poster may lack strong distinguishing features for the Action genre, or could resemble multiple categories.\n",
    "\n",
    "💡 *Business Insight:*                                                                                           \n",
    "- “Posters like 19995.jpg may cause user confusion or reduce click-through if genre identity is unclear — boosting design clarity for such assets can enhance recommendation accuracy and engagement on platforms like Netflix.” \n",
    "- Even when predictions are correct, low confidence scores reduce business trust, essential for tools assisting Netflix’s editorial/marketing teams."
   ]
  },
  {
   "cell_type": "markdown",
   "id": "893f243b-7531-4199-8bbd-2d513ef4f4ad",
   "metadata": {},
   "source": [
    "----"
   ]
  },
  {
   "cell_type": "markdown",
   "id": "e0ef72b3-bb03-4648-8f51-2f1b9d3c733a",
   "metadata": {},
   "source": [
    "## Conclusion"
   ]
  },
  {
   "cell_type": "markdown",
   "id": "28f11a26-cffa-49b8-a861-13051f38b136",
   "metadata": {},
   "source": [
    "The developed DenseNet121-based Netflix Thumbnail Genre Classifier demonstrates a foundational capability to predict movie genres based solely on visual poster data. Trained on 2,330 curated, balanced, and unique posters across five genres (Action, Comedy, Drama, Romance, Thriller), the model achieves:\n",
    "\n",
    "- Validation Accuracy: ~37%\n",
    "\n",
    "- Macro F1-Score: 0.37\n",
    "\n",
    "- Best Genre Performance: Comedy and Romance (F1 ≈ 0.44–0.47)\n",
    "\n",
    "While the baseline model establishes an automated genre classification pipeline, further enhancement is needed for enterprise-grade precision. This version showcases the feasibility of using deep learning to support content metadata enrichment and A/B testing automation at scale."
   ]
  },
  {
   "cell_type": "markdown",
   "id": "12ea761f-1484-48f2-bcee-3de0dde42717",
   "metadata": {},
   "source": [
    "----"
   ]
  },
  {
   "cell_type": "markdown",
   "id": "0a49fac6-8019-42f2-bdd6-ab568200a401",
   "metadata": {},
   "source": [
    "## Business Impact"
   ]
  },
  {
   "cell_type": "markdown",
   "id": "598768fe-77b4-4e89-bcd7-84343b0ca169",
   "metadata": {},
   "source": [
    "If this model or an improved version is deployed at Netflix, it can:\n",
    "\n",
    "📈 *Automate Manual Effort:*\n",
    "- Reduce reliance on human editors for genre tagging of thumbnails.\n",
    "\n",
    "- Free up thousands of hours/year of manual curation, especially for international/localized thumbnails.\n",
    "\n",
    "💡 *Improve Personalization & CTR:*\n",
    "- Automatically identify genre-based poster variations that perform better per region/user segment.\n",
    "\n",
    "- Boost thumbnail click-through rates (CTR) by an estimated 5–10%, based on Netflix’s own past A/B tests on visuals.\n",
    "\n",
    "💰 *Estimated Business Impact:*\n",
    "- A 5% increase in CTR could translate to 20–30 million additional viewing hours/month.\n",
    "\n",
    "- With average revenue per viewing hour at $0.01–0.03, this implies:\n",
    "\n",
    "> 💵 Estimated Uplift: $60M–100M/year in viewer retention and engagement value."
   ]
  },
  {
   "cell_type": "markdown",
   "id": "6db10669-0965-4a37-9935-70de7a966e65",
   "metadata": {},
   "source": [
    "-----"
   ]
  },
  {
   "cell_type": "markdown",
   "id": "b5de6cfe-fd31-4b93-aecf-e980dc2546b6",
   "metadata": {},
   "source": [
    "## Recommendations"
   ]
  },
  {
   "cell_type": "markdown",
   "id": "8c12e15c-3977-4322-9021-17dd9b8fc162",
   "metadata": {},
   "source": [
    "To make the model more reliable, scalable, and production-ready, we recommend:\n",
    "\n",
    "✅ 1. *Introduce Multi-modal Learning:*\n",
    "- Combine poster visuals with textual features like title, synopsis, or keywords for better genre disambiguation (e.g., Drama vs. Romance).\n",
    "\n",
    "✅ 2. *Use Advanced Architectures or Ensembles:*\n",
    "- Switch to DenseNet201, EfficientNetV2, or Transformer-based Vision models for improved accuracy.\n",
    "- Consider ensembling multiple models to balance biases.\n",
    "\n",
    "✅ 3. *Address Label Ambiguity and Overlap:*\n",
    "- Enable multi-label classification since many movies belong to multiple genres (e.g., Action + Thriller).\n",
    "\n",
    "✅ 4. *Train on Larger, Verified Datasets:*\n",
    "- Expand the dataset with 10,000+ posters using TMDB, IMDb, or Netflix open-source previews, ensuring more robust representation.\n",
    "\n",
    "✅ 5. *Deploy Interactive Testing Tools:*\n",
    "- Enhance UX with real-time predictions + SHAP/LIME interpretability for editorial teams to trust the AI’s suggestions."
   ]
  },
  {
   "cell_type": "markdown",
   "id": "31d3e48b-8a40-4145-abc1-8e9487d6e74e",
   "metadata": {},
   "source": [
    "-----"
   ]
  },
  {
   "cell_type": "markdown",
   "id": "eba8ecfa-45ee-4c53-b5fe-c25079ec5408",
   "metadata": {},
   "source": [
    "## Story Telling - Netflix Thumbnail Genre Classification"
   ]
  },
  {
   "cell_type": "markdown",
   "id": "2ca7d419-e0d1-4ab4-9fd5-65caca97e182",
   "metadata": {},
   "source": [
    "Imagine a global Netflix content team preparing promotional visuals for an upcoming release in multiple regions. Typically, they'd:\n",
    "\n",
    "- \"Review the film’s synopsis\"\n",
    "\n",
    "- \"Manually choose genre tags\"\n",
    "\n",
    "- \"Select thumbnail variants to A/B test\"\n",
    "\n",
    "This process takes time, effort, and coordination across teams. But with the Poster Genre Classifier, they can instantly:\n",
    "\n",
    "✅ Upload a poster                       \n",
    "✅ Get a genre tag prediction                               \n",
    "✅ See confidence scores                                 \n",
    "✅ Use that label to dynamically trigger an A/B test variant                                    \n",
    "✅ Optimize visual personalization per region                             \n",
    "\n",
    "Over time, this classifier—when integrated with Netflix's test pipeline—can drive a 20% faster content readiness, ensure consistent metadata tagging, and result in higher engagement rates across new releases.\n",
    "\n",
    "*This project showcases my ability to take an industry-scale challenge, implement a scalable ML pipeline, critically evaluate its limitations, and propose next steps for production-ready deployment.*                                                              \n",
    "*It combines technical excellence with business-driven thinking — exactly what companies like Netflix, Amazon, and Disney+ need in their data science teams.*"
   ]
  }
 ],
 "metadata": {
  "kernelspec": {
   "display_name": "Python (CNN Netflix)",
   "language": "python",
   "name": "cnn_netflix_py310"
  },
  "language_info": {
   "codemirror_mode": {
    "name": "ipython",
    "version": 3
   },
   "file_extension": ".py",
   "mimetype": "text/x-python",
   "name": "python",
   "nbconvert_exporter": "python",
   "pygments_lexer": "ipython3",
   "version": "3.10.16"
  }
 },
 "nbformat": 4,
 "nbformat_minor": 5
}
